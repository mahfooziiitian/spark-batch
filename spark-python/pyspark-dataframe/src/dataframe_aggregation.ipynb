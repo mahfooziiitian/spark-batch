{
   "cells": [
      {
         "cell_type": "code",
         "execution_count": 18,
         "metadata": {},
         "outputs": [],
         "source": [
            "from pyspark.sql import SparkSession\n",
            "spark=SparkSession.builder.appName(\"aggregate_operation\").master(\"local[*]\").getOrCreate()"
         ]
      },
      {
         "cell_type": "code",
         "execution_count": 19,
         "metadata": {},
         "outputs": [],
         "source": [
            "import requests\n",
            "from os import environ as env\n",
            "from pathlib import Path\n",
            "url = 'https://raw.githubusercontent.com/jubins/Spark-And-MLlib-Projects/master/Spark_DataFrame_API_Project/sales_info.csv'\n",
            "r = requests.get(url, allow_redirects=True)\n",
            "data_path = env.get(\"DATA_HOME\",\"data\") + \"\\\\FileData\\\\Csv\\\\sales_info.csv\"\n",
            "if Path(data_path).exists() == False:\n",
            "    open(data_path, 'wb').write(r.content)"
         ]
      },
      {
         "cell_type": "code",
         "execution_count": 20,
         "metadata": {},
         "outputs": [
            {
               "name": "stdout",
               "output_type": "stream",
               "text": [
                  "+-------+-------+-----+\n",
                  "|Company| Person|Sales|\n",
                  "+-------+-------+-----+\n",
                  "|   GOOG|    Sam|200.0|\n",
                  "|   GOOG|Charlie|120.0|\n",
                  "|   GOOG|  Frank|340.0|\n",
                  "|   MSFT|   Tina|600.0|\n",
                  "|   MSFT|    Amy|124.0|\n",
                  "|   MSFT|Vanessa|243.0|\n",
                  "|     FB|   Carl|870.0|\n",
                  "|     FB|  Sarah|350.0|\n",
                  "|   APPL|   John|250.0|\n",
                  "|   APPL|  Linda|130.0|\n",
                  "|   APPL|   Mike|750.0|\n",
                  "|   APPL|  Chris|350.0|\n",
                  "+-------+-------+-----+\n",
                  "\n"
               ]
            }
         ],
         "source": [
            "df=spark.read.csv(data_path,inferSchema=True,header=True)\n",
            "df.show()"
         ]
      },
      {
         "cell_type": "code",
         "execution_count": 21,
         "metadata": {},
         "outputs": [
            {
               "name": "stdout",
               "output_type": "stream",
               "text": [
                  "root\n",
                  " |-- Company: string (nullable = true)\n",
                  " |-- Person: string (nullable = true)\n",
                  " |-- Sales: double (nullable = true)\n",
                  "\n"
               ]
            }
         ],
         "source": [
            "df.printSchema()"
         ]
      },
      {
         "cell_type": "code",
         "execution_count": 22,
         "metadata": {},
         "outputs": [
            {
               "name": "stdout",
               "output_type": "stream",
               "text": [
                  "+-------+-----+\n",
                  "|Company|count|\n",
                  "+-------+-----+\n",
                  "|   APPL|    4|\n",
                  "|   GOOG|    3|\n",
                  "|     FB|    2|\n",
                  "|   MSFT|    3|\n",
                  "+-------+-----+\n",
                  "\n"
               ]
            }
         ],
         "source": [
            "df.groupBy('Company').count().show()"
         ]
      },
      {
         "cell_type": "code",
         "execution_count": 23,
         "metadata": {},
         "outputs": [
            {
               "name": "stdout",
               "output_type": "stream",
               "text": [
                  "+-------+-------+-------+-------+\n",
                  "|Company|sum_sal|max_sal|min_sal|\n",
                  "+-------+-------+-------+-------+\n",
                  "|   APPL| 1480.0|  750.0|  130.0|\n",
                  "|   GOOG|  660.0|  340.0|  120.0|\n",
                  "|     FB| 1220.0|  870.0|  350.0|\n",
                  "|   MSFT|  967.0|  600.0|  124.0|\n",
                  "+-------+-------+-------+-------+\n",
                  "\n"
               ]
            }
         ],
         "source": [
            "from pyspark.sql.functions import sum, max, min\n",
            "\n",
            "df.groupBy('Company').agg(\n",
            "    sum(\"Sales\").alias(\"sum_sal\"),\n",
            "    max(\"Sales\").alias(\"max_sal\"),\n",
            "    min(\"Sales\").alias(\"min_sal\"),\n",
            ").show()"
         ]
      },
      {
         "cell_type": "code",
         "execution_count": 24,
         "metadata": {},
         "outputs": [
            {
               "name": "stdout",
               "output_type": "stream",
               "text": [
                  "+-------+-------+-----+\n",
                  "|Company| Person|Sales|\n",
                  "+-------+-------+-----+\n",
                  "|   GOOG|Charlie|120.0|\n",
                  "|   MSFT|    Amy|124.0|\n",
                  "|   APPL|  Linda|130.0|\n",
                  "|   GOOG|    Sam|200.0|\n",
                  "|   MSFT|Vanessa|243.0|\n",
                  "|   APPL|   John|250.0|\n",
                  "|   GOOG|  Frank|340.0|\n",
                  "|     FB|  Sarah|350.0|\n",
                  "|   APPL|  Chris|350.0|\n",
                  "|   MSFT|   Tina|600.0|\n",
                  "|   APPL|   Mike|750.0|\n",
                  "|     FB|   Carl|870.0|\n",
                  "+-------+-------+-----+\n",
                  "\n"
               ]
            }
         ],
         "source": [
            "df.orderBy('Sales').show()"
         ]
      },
      {
         "cell_type": "code",
         "execution_count": 25,
         "metadata": {},
         "outputs": [],
         "source": [
            "spark.stop()"
         ]
      }
   ],
   "metadata": {
      "kernelspec": {
         "display_name": "spark",
         "language": "python",
         "name": "python3"
      },
      "language_info": {
         "codemirror_mode": {
            "name": "ipython",
            "version": 3
         },
         "file_extension": ".py",
         "mimetype": "text/x-python",
         "name": "python",
         "nbconvert_exporter": "python",
         "pygments_lexer": "ipython3",
         "version": "3.9.16"
      },
      "orig_nbformat": 4
   },
   "nbformat": 4,
   "nbformat_minor": 2
}
