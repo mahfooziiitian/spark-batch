{
    "cells": [
        {
            "cell_type": "code",
            "execution_count": 9,
            "metadata": {},
            "outputs": [],
            "source": [
                "from pyspark.sql import SparkSession"
            ]
        },
        {
            "cell_type": "code",
            "execution_count": 10,
            "metadata": {},
            "outputs": [],
            "source": [
                "spark=SparkSession.builder.appName(\"missing_data\").master(\"local[*]\").getOrCreate()"
            ]
        },
        {
            "attachments": {},
            "cell_type": "markdown",
            "metadata": {},
            "source": [
                "# Downloading data"
            ]
        },
        {
            "cell_type": "code",
            "execution_count": 11,
            "metadata": {},
            "outputs": [],
            "source": [
                "import requests\n",
                "from os import environ as env\n",
                "from pathlib import Path\n",
                "url = 'https://raw.githubusercontent.com/jubins/Spark-And-MLlib-Projects/master/Spark_DataFrame_API_Project/ContainsNull.csv'\n",
                "r = requests.get(url, allow_redirects=True)\n",
                "data_path = env.get(\"DATA_HOME\",\"data\") + \"\\\\FileData\\\\Csv\\\\ContainsNull.csv\"\n",
                "if Path(data_path).exists() == False:\n",
                "    open(data_path, 'wb').write(r.content)"
            ]
        },
        {
            "cell_type": "code",
            "execution_count": 12,
            "metadata": {},
            "outputs": [],
            "source": [
                "df=spark.read.csv(data_path,inferSchema=True,header=True)"
            ]
        },
        {
            "cell_type": "code",
            "execution_count": 13,
            "metadata": {},
            "outputs": [
                {
                    "name": "stdout",
                    "output_type": "stream",
                    "text": [
                        "root\n",
                        " |-- Id: string (nullable = true)\n",
                        " |-- Name: string (nullable = true)\n",
                        " |-- Sales: double (nullable = true)\n",
                        "\n"
                    ]
                }
            ],
            "source": [
                "df.printSchema()"
            ]
        },
        {
            "cell_type": "code",
            "execution_count": 14,
            "metadata": {},
            "outputs": [
                {
                    "name": "stdout",
                    "output_type": "stream",
                    "text": [
                        "+----+-----+-----+\n",
                        "|  Id| Name|Sales|\n",
                        "+----+-----+-----+\n",
                        "|emp1| John| null|\n",
                        "|emp2| null| null|\n",
                        "|emp3| null|345.0|\n",
                        "|emp4|Cindy|456.0|\n",
                        "+----+-----+-----+\n",
                        "\n"
                    ]
                }
            ],
            "source": [
                "df.show()"
            ]
        },
        {
            "cell_type": "code",
            "execution_count": 15,
            "metadata": {},
            "outputs": [
                {
                    "name": "stdout",
                    "output_type": "stream",
                    "text": [
                        "+----+-----+-----+\n",
                        "|  Id| Name|Sales|\n",
                        "+----+-----+-----+\n",
                        "|emp4|Cindy|456.0|\n",
                        "+----+-----+-----+\n",
                        "\n"
                    ]
                }
            ],
            "source": [
                "df.na.drop().show()"
            ]
        },
        {
            "cell_type": "code",
            "execution_count": 16,
            "metadata": {},
            "outputs": [
                {
                    "name": "stdout",
                    "output_type": "stream",
                    "text": [
                        "+----+-----+-----+\n",
                        "|  Id| Name|Sales|\n",
                        "+----+-----+-----+\n",
                        "|emp1| John| null|\n",
                        "|emp3| null|345.0|\n",
                        "|emp4|Cindy|456.0|\n",
                        "+----+-----+-----+\n",
                        "\n"
                    ]
                }
            ],
            "source": [
                "df.na.drop(thresh=2).show()"
            ]
        },
        {
            "cell_type": "code",
            "execution_count": 17,
            "metadata": {},
            "outputs": [
                {
                    "name": "stdout",
                    "output_type": "stream",
                    "text": [
                        "+----+-----+-----+\n",
                        "|  Id| Name|Sales|\n",
                        "+----+-----+-----+\n",
                        "|emp4|Cindy|456.0|\n",
                        "+----+-----+-----+\n",
                        "\n"
                    ]
                }
            ],
            "source": [
                "df.na.drop(thresh='any').show()"
            ]
        },
        {
            "cell_type": "code",
            "execution_count": 18,
            "metadata": {},
            "outputs": [
                {
                    "name": "stdout",
                    "output_type": "stream",
                    "text": [
                        "+----+-----+-----+\n",
                        "|  Id| Name|Sales|\n",
                        "+----+-----+-----+\n",
                        "|emp1| John| null|\n",
                        "|emp2| null| null|\n",
                        "|emp3| null|345.0|\n",
                        "|emp4|Cindy|456.0|\n",
                        "+----+-----+-----+\n",
                        "\n"
                    ]
                }
            ],
            "source": [
                "df.na.drop(thresh='all').show()"
            ]
        },
        {
            "cell_type": "code",
            "execution_count": 19,
            "metadata": {},
            "outputs": [
                {
                    "name": "stdout",
                    "output_type": "stream",
                    "text": [
                        "+----+-----+-----+\n",
                        "|  Id| Name|Sales|\n",
                        "+----+-----+-----+\n",
                        "|emp3| null|345.0|\n",
                        "|emp4|Cindy|456.0|\n",
                        "+----+-----+-----+\n",
                        "\n"
                    ]
                }
            ],
            "source": [
                "df.na.drop(subset=['Sales']).show()"
            ]
        },
        {
            "cell_type": "code",
            "execution_count": 20,
            "metadata": {},
            "outputs": [
                {
                    "name": "stdout",
                    "output_type": "stream",
                    "text": [
                        "+----+-----+-----+\n",
                        "|  Id| Name|Sales|\n",
                        "+----+-----+-----+\n",
                        "|emp1| John|  0.0|\n",
                        "|emp2| null|  0.0|\n",
                        "|emp3| null|345.0|\n",
                        "|emp4|Cindy|456.0|\n",
                        "+----+-----+-----+\n",
                        "\n"
                    ]
                }
            ],
            "source": [
                "df.na.fill(0.0).show()"
            ]
        },
        {
            "cell_type": "code",
            "execution_count": 21,
            "metadata": {},
            "outputs": [
                {
                    "name": "stdout",
                    "output_type": "stream",
                    "text": [
                        "+----+-------+-----+\n",
                        "|  Id|   Name|Sales|\n",
                        "+----+-------+-----+\n",
                        "|emp1|   John| null|\n",
                        "|emp2|no name| null|\n",
                        "|emp3|no name|345.0|\n",
                        "|emp4|  Cindy|456.0|\n",
                        "+----+-------+-----+\n",
                        "\n"
                    ]
                }
            ],
            "source": [
                "df.na.fill('no name',subset=['Name']).show()"
            ]
        }
    ],
    "metadata": {
        "kernelspec": {
            "display_name": "spark",
            "language": "python",
            "name": "python3"
        },
        "language_info": {
            "codemirror_mode": {
                "name": "ipython",
                "version": 3
            },
            "file_extension": ".py",
            "mimetype": "text/x-python",
            "name": "python",
            "nbconvert_exporter": "python",
            "pygments_lexer": "ipython3",
            "version": "3.9.16"
        },
        "orig_nbformat": 4
    },
    "nbformat": 4,
    "nbformat_minor": 2
}
