{
 "cells": [
  {
   "cell_type": "code",
   "execution_count": 2,
   "metadata": {},
   "outputs": [],
   "source": [
    "from pyspark.sql import SparkSession"
   ]
  },
  {
   "cell_type": "code",
   "execution_count": 3,
   "metadata": {},
   "outputs": [],
   "source": [
    "spark = SparkSession.builder\\\n",
    "    .appName(\"array-column-join\")\\\n",
    "    .master(\"local[*]\").getOrCreate()"
   ]
  },
  {
   "cell_type": "code",
   "execution_count": 6,
   "metadata": {},
   "outputs": [
    {
     "name": "stdout",
     "output_type": "stream",
     "text": [
      "+---+------+-------------+\n",
      "|  a|     b|            c|\n",
      "+---+------+-------------+\n",
      "|  6|[5, 4]| [Five, Four]|\n",
      "|  5|[4, 5]| [Four, Five]|\n",
      "|  3|   [4]|       [Four]|\n",
      "|  2|[3, 4]|[Three, Four]|\n",
      "|  4|[3, 5]|[Three, Five]|\n",
      "+---+------+-------------+\n",
      "\n"
     ]
    }
   ],
   "source": [
    "import pyspark.sql.functions as F\n",
    "\n",
    "df1 = spark.createDataFrame([(2, [3, 4]), (3, [4]),(4, [3,5]),(5, [4,5]),(6, [5,4])], [\"a\", \"b\"])\\\n",
    "    .select(\"*\",F.expr(\"posexplode(b) as (pos, key)\"))\n",
    "df2 = spark.createDataFrame([(3, \"Three\"), (4, \"Four\"),(5, \"Five\")], [\"b\", \"c\"]).withColumnRenamed(\"b\",\"key\")\n",
    "\n",
    "df3 = df1.join(df2, on=\"key\")\\\n",
    "    .orderBy(\"a\", \"pos\")\\\n",
    "    .groupBy(\"a\").agg(\n",
    "    F.first(\"b\").alias(\"b\"),\n",
    "    F.collect_list(\"c\").alias(\"c\")\n",
    ")\n",
    "\n",
    "df3.show()"
   ]
  },
  {
   "cell_type": "code",
   "execution_count": 8,
   "metadata": {},
   "outputs": [],
   "source": [
    "tripDf = spark.createDataFrame([\n",
    "        (\"PMI\",        \"OPO\",             [2, 1]),\n",
    "        (\"ATH\", \"BCN\", [3]),\n",
    "        (\"JFK\",        \"MAD\",          [5, 4, 6]),\n",
    "        (\"HND\",        \"LAX\",       [8, 9, 7, 0])\n",
    "    ], \n",
    "    [\"origin\",\"destination\",\"internal_flight_id\"]\n",
    ")"
   ]
  },
  {
   "cell_type": "code",
   "execution_count": 9,
   "metadata": {},
   "outputs": [],
   "source": [
    "flightDF = spark.createDataFrame(\n",
    "    [\n",
    "    (0,'FR5763'),\n",
    "    (1,'UT9586'),\n",
    "    (2,'B4325'),\n",
    "    (3,'RW35675'),\n",
    "    (4,'LP656'),\n",
    "    (5,'NB4321'),\n",
    "    (6,'CX4599'),\n",
    "    (7,'AZ8844'),\n",
    "    (8,'KH8851'),\n",
    "    (9,'OP8777')\n",
    "    ],\n",
    "    [\"internal_flight_id\",\"public_flight_number\"])"
   ]
  },
  {
   "cell_type": "code",
   "execution_count": 11,
   "metadata": {},
   "outputs": [
    {
     "name": "stdout",
     "output_type": "stream",
     "text": [
      "+------------------+-------------------+--------------------------------+\n",
      "|internal_flight_id|internal_flight_ids|public_flight_number            |\n",
      "+------------------+-------------------+--------------------------------+\n",
      "|[2, 1]            |[2, 1]             |[UT9586, B4325]                 |\n",
      "|[3]               |[3]                |[RW35675]                       |\n",
      "|[5, 4, 6]         |[5, 4, 6]          |[LP656, NB4321, CX4599]         |\n",
      "|[8, 9, 7, 0]      |[8, 9, 7, 0]       |[FR5763, AZ8844, KH8851, OP8777]|\n",
      "+------------------+-------------------+--------------------------------+\n",
      "\n"
     ]
    }
   ],
   "source": [
    "flightTripDF = tripDf.alias(\"tripDf\").join(\n",
    "    flightDF.alias(\"flightDF\"),\n",
    "    F.expr(\"array_contains(tripDf.internal_flight_id, flightDF.internal_flight_id)\"),\n",
    "    \"left\"\n",
    ").groupBy(\"tripDf.internal_flight_id\").agg(\n",
    "    F.first(\"tripDf.internal_flight_id\").alias(\"internal_flight_ids\"),\n",
    "    F.collect_list(\"flightDF.public_flight_number\").alias(\"public_flight_number\")\n",
    ")\n",
    "\n",
    "flightTripDF.show(truncate=False)\n"
   ]
  },
  {
   "attachments": {},
   "cell_type": "markdown",
   "metadata": {},
   "source": [
    "# Example 3"
   ]
  },
  {
   "cell_type": "code",
   "execution_count": 4,
   "metadata": {},
   "outputs": [
    {
     "name": "stdout",
     "output_type": "stream",
     "text": [
      "+---+------------+\n",
      "| id|      values|\n",
      "+---+------------+\n",
      "|  1|    [10, 20]|\n",
      "|  3|        [60]|\n",
      "|  2|[30, 40, 50]|\n",
      "+---+------------+\n",
      "\n"
     ]
    }
   ],
   "source": [
    "from pyspark.sql.functions import posexplode\n",
    "\n",
    "# Sample input data\n",
    "df1 = spark.createDataFrame([(1, [\"a\", \"b\"]), (2, [\"c\", \"d\", \"e\"]), (3, [\"f\"])], [\"id\", \"arr\"])\n",
    "df2 = spark.createDataFrame([(\"a\", 10), (\"b\", 20), (\"c\", 30), (\"d\", 40), (\"e\", 50), (\"f\", 60)], [\"key\", \"value\"])\n",
    "\n",
    "# Explode the array column along with its index\n",
    "df1_exploded = df1.selectExpr(\"id\", \"posexplode(arr) as (pos, key)\")\n",
    "# Join with the mapped column using the index\n",
    "joined_df = df1_exploded.join(df2, on=\"key\").orderBy(\"id\", \"pos\")\n",
    "# Group by id and aggregate the values in an array\n",
    "final_df = joined_df.groupBy(\"id\").agg({\"value\": \"collect_list\"}).withColumnRenamed(\"collect_list(value)\", \"values\")\n",
    "\n",
    "final_df.show()"
   ]
  }
 ],
 "metadata": {
  "kernelspec": {
   "display_name": "spark",
   "language": "python",
   "name": "python3"
  },
  "language_info": {
   "codemirror_mode": {
    "name": "ipython",
    "version": 3
   },
   "file_extension": ".py",
   "mimetype": "text/x-python",
   "name": "python",
   "nbconvert_exporter": "python",
   "pygments_lexer": "ipython3",
   "version": "3.9.16"
  },
  "orig_nbformat": 4
 },
 "nbformat": 4,
 "nbformat_minor": 2
}
