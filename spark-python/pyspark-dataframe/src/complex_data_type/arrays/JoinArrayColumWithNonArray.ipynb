{
 "cells": [
  {
   "cell_type": "code",
   "execution_count": 6,
   "metadata": {},
   "outputs": [],
   "source": [
    "from pyspark.sql import SparkSession\n",
    "from pyspark.sql.functions import udf , collect_list, explode,col,expr,posexplode,broadcast\n",
    "from pyspark.sql.functions import posexplode"
   ]
  },
  {
   "cell_type": "code",
   "execution_count": 7,
   "metadata": {},
   "outputs": [],
   "source": [
    "spark = SparkSession.builder\\\n",
    "    .appName(\"array-column-join\")\\\n",
    "    .master(\"local[*]\").getOrCreate()"
   ]
  },
  {
   "cell_type": "code",
   "execution_count": 8,
   "metadata": {},
   "outputs": [
    {
     "name": "stdout",
     "output_type": "stream",
     "text": [
      "+------+-----------+-------------------+---+------------------+\n",
      "|origin|destination|internal_flight_ids|pos|internal_flight_id|\n",
      "+------+-----------+-------------------+---+------------------+\n",
      "|PMI   |OPO        |[2, 1]             |0  |2                 |\n",
      "|PMI   |OPO        |[2, 1]             |1  |1                 |\n",
      "|ATH   |BCN        |[3]                |0  |3                 |\n",
      "|JFK   |MAD        |[5, 4, 6]          |0  |5                 |\n",
      "|JFK   |MAD        |[5, 4, 6]          |1  |4                 |\n",
      "|JFK   |MAD        |[5, 4, 6]          |2  |6                 |\n",
      "|HND   |LAX        |[8, 9, 7, 0]       |0  |8                 |\n",
      "|HND   |LAX        |[8, 9, 7, 0]       |1  |9                 |\n",
      "|HND   |LAX        |[8, 9, 7, 0]       |2  |7                 |\n",
      "|HND   |LAX        |[8, 9, 7, 0]       |3  |0                 |\n",
      "+------+-----------+-------------------+---+------------------+\n",
      "\n"
     ]
    }
   ],
   "source": [
    "tripDf = spark.createDataFrame([\n",
    "        (\"PMI\",        \"OPO\",             [2, 1]),\n",
    "        (\"ATH\", \"BCN\", [3]),\n",
    "        (\"JFK\",        \"MAD\",          [5, 4, 6]),\n",
    "        (\"HND\",        \"LAX\",       [8, 9, 7, 0])\n",
    "    ], \n",
    "    [\"origin\",\"destination\",\"internal_flight_ids\"]\n",
    ")\n",
    "tripExploedDF = tripDf.select(\"*\",expr(\"posexplode(internal_flight_ids) as (pos, internal_flight_id)\"))\n",
    "tripExploedDF.show(truncate=False)"
   ]
  },
  {
   "cell_type": "code",
   "execution_count": 9,
   "metadata": {},
   "outputs": [],
   "source": [
    "flightDF = spark.createDataFrame(\n",
    "    [\n",
    "    (0,'FR5763'),\n",
    "    (1,'UT9586'),\n",
    "    (2,'B4325'),\n",
    "    (3,'RW35675'),\n",
    "    (4,'LP656'),\n",
    "    (5,'NB4321'),\n",
    "    (6,'CX4599'),\n",
    "    (7,'AZ8844'),\n",
    "    (8,'KH8851'),\n",
    "    (9,'OP8777')\n",
    "    ],\n",
    "    [\"internal_flight_id\",\"public_flight_number\"]\n",
    ")"
   ]
  },
  {
   "cell_type": "code",
   "execution_count": 10,
   "metadata": {},
   "outputs": [
    {
     "name": "stdout",
     "output_type": "stream",
     "text": [
      "+------+-----------+--------------------------------+\n",
      "|origin|destination|internal_flight_list            |\n",
      "+------+-----------+--------------------------------+\n",
      "|PMI   |OPO        |[B4325, UT9586]                 |\n",
      "|JFK   |MAD        |[NB4321, LP656, CX4599]         |\n",
      "|HND   |LAX        |[KH8851, OP8777, AZ8844, FR5763]|\n",
      "|ATH   |BCN        |[RW35675]                       |\n",
      "+------+-----------+--------------------------------+\n",
      "\n"
     ]
    }
   ],
   "source": [
    "flightTripDF = tripExploedDF\\\n",
    "    .join(flightDF,on=\"internal_flight_id\")\\\n",
    "    .orderBy(\"origin\",\"destination\", \"pos\")\n",
    "\n",
    "flightTripDF.groupBy(\"origin\",\"destination\")\\\n",
    "    .agg(collect_list(flightDF.public_flight_number).alias(\"internal_flight_list\")).show(truncate=False)"
   ]
  }
 ],
 "metadata": {
  "kernelspec": {
   "display_name": "spark",
   "language": "python",
   "name": "python3"
  },
  "language_info": {
   "codemirror_mode": {
    "name": "ipython",
    "version": 3
   },
   "file_extension": ".py",
   "mimetype": "text/x-python",
   "name": "python",
   "nbconvert_exporter": "python",
   "pygments_lexer": "ipython3",
   "version": "3.9.16"
  },
  "orig_nbformat": 4
 },
 "nbformat": 4,
 "nbformat_minor": 2
}
