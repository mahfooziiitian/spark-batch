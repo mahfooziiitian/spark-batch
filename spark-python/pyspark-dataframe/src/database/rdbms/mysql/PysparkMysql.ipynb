{
 "cells": [
  {
   "cell_type": "code",
   "execution_count": 1,
   "metadata": {},
   "outputs": [],
   "source": [
    "from pyspark.sql import SparkSession"
   ]
  },
  {
   "cell_type": "code",
   "execution_count": 2,
   "metadata": {},
   "outputs": [
    {
     "name": "stdout",
     "output_type": "stream",
     "text": [
      "Hive metastore uri : C:/Users/Mohammed_Alam/learning/data/Spark/Metastore\n",
      "C:\\Users\\Mohammed_Alam\\learning\\data\\Spark\\SparkWarehouse\n"
     ]
    }
   ],
   "source": [
    "import os\n",
    "from pathlib import PurePath\n",
    "HiveMetastoreUri = PurePath(os.environ[\"derby.system.home\"]).as_posix()\n",
    "Datawarehouse = os.environ[\"SPARK_WAREHOUSE\"]\n",
    "print(f\"Hive metastore uri : {HiveMetastoreUri}\")\n",
    "print(Datawarehouse)"
   ]
  },
  {
   "cell_type": "code",
   "execution_count": 3,
   "metadata": {},
   "outputs": [],
   "source": [
    "# Register jdbc jar\n",
    "jar_directory=\"C:\\\\Users\\\\Mohammed_Alam\\\\learning\\\\data\\\\Database\\\\Jars\\\\MySQL\"\n",
    "\n",
    "spark = SparkSession.builder.appName(\"metastore\").master(\"local[*]\")\\\n",
    "    .config(\"spark.sql.warehouse.dir\", Datawarehouse) \\\n",
    "    .config(\"spark.driver.extraJavaOptions\", f'-Dderby.system.home={HiveMetastoreUri}')\\\n",
    "    .config(\n",
    "        \"spark.jars\",\n",
    "        f\"{jar_directory}\\\\mysql-connector-java-8.0.20.jar\")\\\n",
    "    .config(\n",
    "        \"spark.driver.extraClassPath\",\n",
    "        f\"{jar_directory}\\\\mysql-connector-java-8.0.20.jar\")\\\n",
    "    .enableHiveSupport().getOrCreate()"
   ]
  },
  {
   "cell_type": "code",
   "execution_count": 4,
   "metadata": {},
   "outputs": [],
   "source": [
    "user = \"mysql\"\n",
    "password = \"MySQL_2023\""
   ]
  },
  {
   "cell_type": "code",
   "execution_count": 5,
   "metadata": {},
   "outputs": [],
   "source": [
    "url = \"jdbc:mysql://localhost:3306/datascience\"\n",
    "driver='com.mysql.cj.jdbc.Driver'"
   ]
  },
  {
   "cell_type": "code",
   "execution_count": 6,
   "metadata": {},
   "outputs": [],
   "source": [
    "df = spark.read \\\n",
    "    .format(\"jdbc\") \\\n",
    "    .option(\"url\", url)\\\n",
    "    .option(\"dbtable\", \"emp\") \\\n",
    "    .option(\"user\", user) \\\n",
    "    .option(\"password\", password) \\\n",
    "    .option(\"driver\", driver) \\\n",
    "    .load()"
   ]
  },
  {
   "cell_type": "code",
   "execution_count": 7,
   "metadata": {},
   "outputs": [
    {
     "name": "stdout",
     "output_type": "stream",
     "text": [
      "+-----+-----+--------+---+\n",
      "|index| Name|Location|Age|\n",
      "+-----+-----+--------+---+\n",
      "| null| John|New York| 24|\n",
      "| null| Anna|   Paris| 13|\n",
      "| null|Peter|  Berlin| 53|\n",
      "| null|Linda|  London| 33|\n",
      "| null| John|New York| 24|\n",
      "| null| Anna|   Paris| 13|\n",
      "| null|Peter|  Berlin| 53|\n",
      "| null|Linda|  London| 33|\n",
      "+-----+-----+--------+---+\n",
      "\n"
     ]
    }
   ],
   "source": [
    "df.show()"
   ]
  }
 ],
 "metadata": {
  "kernelspec": {
   "display_name": "spark",
   "language": "python",
   "name": "python3"
  },
  "language_info": {
   "codemirror_mode": {
    "name": "ipython",
    "version": 3
   },
   "file_extension": ".py",
   "mimetype": "text/x-python",
   "name": "python",
   "nbconvert_exporter": "python",
   "pygments_lexer": "ipython3",
   "version": "3.9.16"
  },
  "orig_nbformat": 4,
  "vscode": {
   "interpreter": {
    "hash": "7457cc6a39d34bbaba9cfb35b8c33acdf29237709917fcfa02a4735835f96a5d"
   }
  }
 },
 "nbformat": 4,
 "nbformat_minor": 2
}
