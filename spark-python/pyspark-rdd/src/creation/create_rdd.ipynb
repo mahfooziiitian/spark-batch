{
 "cells": [
  {
   "cell_type": "code",
   "execution_count": 1,
   "metadata": {},
   "outputs": [],
   "source": [
    "from pyspark import SparkConf, SparkContext"
   ]
  },
  {
   "cell_type": "code",
   "execution_count": 4,
   "metadata": {},
   "outputs": [],
   "source": [
    "conf = (SparkConf()\n",
    "        .setMaster(\"local[*]\")\n",
    "        .setAppName(\"RDD creation\"))"
   ]
  },
  {
   "cell_type": "code",
   "execution_count": 5,
   "metadata": {},
   "outputs": [],
   "source": [
    "sc = SparkContext(conf=conf)\n",
    "data = [1, 2, 3, 4, 5]"
   ]
  },
  {
   "cell_type": "code",
   "execution_count": 6,
   "metadata": {},
   "outputs": [],
   "source": [
    "# Creating from data\n",
    "distData = sc.parallelize(data)\n",
    "distData.foreach(lambda f: print(f))"
   ]
  },
  {
   "cell_type": "code",
   "execution_count": 7,
   "metadata": {},
   "outputs": [
    {
     "name": "stdout",
     "output_type": "stream",
     "text": [
      "C:\\Users\\Mohammed_Alam\\learning\\data\\Processing\\Spark\\DataSources\\Text\\test.txt\n",
      "3521\n"
     ]
    }
   ],
   "source": [
    "# Creating from a file\n",
    "import os\n",
    "data_file=f\"{os.environ['DATA_HOME']}\\\\Processing\\\\Spark\\\\DataSources\\\\Text\\\\test.txt\"\n",
    "print(data_file)\n",
    "distFile = sc.textFile(data_file)\n",
    "lenrdd = distFile.map(lambda s: len(s))\n",
    "lenrdd.foreach(lambda f: print(f))\n",
    "\n",
    "lines = sc.textFile(data_file)\n",
    "lineLengths = lines.map(lambda s: len(s))\n",
    "totalLength = lineLengths.reduce(lambda a, b: a + b)\n",
    "print(totalLength)"
   ]
  }
 ],
 "metadata": {
  "kernelspec": {
   "display_name": "spark",
   "language": "python",
   "name": "python3"
  },
  "language_info": {
   "codemirror_mode": {
    "name": "ipython",
    "version": 3
   },
   "file_extension": ".py",
   "mimetype": "text/x-python",
   "name": "python",
   "nbconvert_exporter": "python",
   "pygments_lexer": "ipython3",
   "version": "3.9.16"
  },
  "orig_nbformat": 4,
  "vscode": {
   "interpreter": {
    "hash": "7457cc6a39d34bbaba9cfb35b8c33acdf29237709917fcfa02a4735835f96a5d"
   }
  }
 },
 "nbformat": 4,
 "nbformat_minor": 2
}
