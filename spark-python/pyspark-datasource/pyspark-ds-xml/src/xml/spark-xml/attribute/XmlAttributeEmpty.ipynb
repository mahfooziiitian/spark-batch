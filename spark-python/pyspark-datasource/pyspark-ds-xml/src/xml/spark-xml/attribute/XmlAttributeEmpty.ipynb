from pyspark.sql import SparkSession

if __name__ == '__main__':

    spark = SparkSession.builder.appName("XMLParser").getOrCreate()

    xmlString = '''
    <root>
      <person name="Alice" age="30"/>
      <person name="Bob" age="40"/>
    </root>
    '''

    df = spark.createDataFrame([(xmlString,)], ["xml"])
    result = df.select(
        from_xml("xml", schema_of_xml="struct<root:struct<person:array<struct<@name:string,@age:string>>>>",
                 options={"attributePrefix": ""}).alias("parsed_xml"))

    result.show(truncate=False)