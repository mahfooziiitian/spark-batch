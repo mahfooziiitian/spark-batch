{
 "cells": [
  {
   "cell_type": "code",
   "execution_count": 18,
   "metadata": {},
   "outputs": [],
   "source": [
    "from pyspark.sql import SparkSession\n",
    "from pyspark.sql import functions as F"
   ]
  },
  {
   "cell_type": "code",
   "execution_count": 19,
   "metadata": {},
   "outputs": [],
   "source": [
    "spark = SparkSession.builder.master(\"local[*]\").getOrCreate()"
   ]
  },
  {
   "cell_type": "code",
   "execution_count": 20,
   "metadata": {},
   "outputs": [],
   "source": [
    "df = spark.createDataFrame([(\"2025-03-15 14:30:45\",)], [\"timestamp\"])\n",
    "df = df.withColumn(\"timestamp\", F.col(\"timestamp\").cast(\"timestamp\"))"
   ]
  },
  {
   "cell_type": "markdown",
   "metadata": {},
   "source": [
    "## Extracting Date & Time Components"
   ]
  },
  {
   "cell_type": "code",
   "execution_count": 21,
   "metadata": {},
   "outputs": [
    {
     "name": "stdout",
     "output_type": "stream",
     "text": [
      "+-------------------+----+-----+---+----+------+------+--------------+\n",
      "|          timestamp|year|month|day|hour|minute|second|formatted_date|\n",
      "+-------------------+----+-----+---+----+------+------+--------------+\n",
      "|2025-03-15 14:30:45|2025|    3| 15|  14|    30|    45|    2025-03-15|\n",
      "+-------------------+----+-----+---+----+------+------+--------------+\n",
      "\n"
     ]
    }
   ],
   "source": [
    "df.select(\n",
    "    F.col(\"timestamp\"),\n",
    "    F.year(\"timestamp\").alias(\"year\"),\n",
    "    F.month(\"timestamp\").alias(\"month\"),\n",
    "    F.dayofmonth(\"timestamp\").alias(\"day\"),\n",
    "    F.hour(\"timestamp\").alias(\"hour\"),\n",
    "    F.minute(\"timestamp\").alias(\"minute\"),\n",
    "    F.second(\"timestamp\").alias(\"second\"),\n",
    "    F.date_format(\"timestamp\", \"yyyy-MM-dd\").alias(\"formatted_date\"),\n",
    ").show()"
   ]
  },
  {
   "cell_type": "code",
   "execution_count": 22,
   "metadata": {},
   "outputs": [
    {
     "name": "stdout",
     "output_type": "stream",
     "text": [
      "+------------+--------------------------+\n",
      "|current_date|current_timestamp         |\n",
      "+------------+--------------------------+\n",
      "|2025-03-15  |2025-03-15 02:06:32.817587|\n",
      "+------------+--------------------------+\n",
      "\n"
     ]
    }
   ],
   "source": [
    "df.select(F.current_date().alias(\"current_date\"), F.current_timestamp().alias(\"current_timestamp\")).show(truncate=False)"
   ]
  },
  {
   "cell_type": "markdown",
   "metadata": {},
   "source": [
    "## Date airthmetic\n"
   ]
  },
  {
   "cell_type": "code",
   "execution_count": 23,
   "metadata": {},
   "outputs": [
    {
     "name": "stdout",
     "output_type": "stream",
     "text": [
      "+----------+----------+----------+----------------+\n",
      "|     today| next_week| last_week|two_months_later|\n",
      "+----------+----------+----------+----------------+\n",
      "|2025-03-15|2025-03-22|2025-03-08|      2025-05-15|\n",
      "+----------+----------+----------+----------------+\n",
      "\n"
     ]
    }
   ],
   "source": [
    "df.select(\n",
    "    F.current_date().alias(\"today\"),\n",
    "    F.date_add(F.current_date(), 7).alias(\"next_week\"),\n",
    "    F.date_sub(F.current_date(), 7).alias(\"last_week\"),\n",
    "    F.add_months(F.current_date(), 2).alias(\"two_months_later\"),\n",
    ").show()"
   ]
  },
  {
   "cell_type": "markdown",
   "metadata": {},
   "source": [
    "## Date Difference & Date Operations\n"
   ]
  },
  {
   "cell_type": "code",
   "execution_count": 24,
   "metadata": {},
   "outputs": [
    {
     "name": "stdout",
     "output_type": "stream",
     "text": [
      "+----------+----------+---------------+-----------------+\n",
      "|start_date|  end_date|days_difference|months_difference|\n",
      "+----------+----------+---------------+-----------------+\n",
      "|2025-03-15|2025-05-15|             61|              2.0|\n",
      "+----------+----------+---------------+-----------------+\n",
      "\n"
     ]
    }
   ],
   "source": [
    "df2 = spark.createDataFrame([(\"2025-03-15\", \"2025-05-15\")], [\"start_date\", \"end_date\"])\n",
    "df2 = df2.withColumn(\"start_date\", F.col(\"start_date\").cast(\"date\"))\n",
    "df2 = df2.withColumn(\"end_date\", F.col(\"end_date\").cast(\"date\"))\n",
    "\n",
    "df2.select(\n",
    "    F.col(\"start_date\"),\n",
    "    F.col(\"end_date\"),\n",
    "    F.datediff(F.col(\"end_date\"), F.col(\"start_date\")).alias(\"days_difference\"),\n",
    "    F.months_between(F.col(\"end_date\"), F.col(\"start_date\")).alias(\"months_difference\"),\n",
    ").show()"
   ]
  },
  {
   "cell_type": "markdown",
   "metadata": {},
   "source": [
    "## Formatting Dates"
   ]
  },
  {
   "cell_type": "code",
   "execution_count": 25,
   "metadata": {},
   "outputs": [
    {
     "name": "stdout",
     "output_type": "stream",
     "text": [
      "+-------------+--------------+-----------------------+\n",
      "|original_date|formatted_date|long_format            |\n",
      "+-------------+--------------+-----------------------+\n",
      "|2025-03-15   |2025/03/15    |Saturday, March 15 2025|\n",
      "+-------------+--------------+-----------------------+\n",
      "\n"
     ]
    }
   ],
   "source": [
    "df.select(\n",
    "    F.current_date().alias(\"original_date\"),\n",
    "    F.date_format(F.current_date(), \"yyyy/MM/dd\").alias(\"formatted_date\"),\n",
    "    F.date_format(F.current_date(), \"EEEE, MMMM dd yyyy\").alias(\"long_format\")\n",
    ").show(truncate=False)"
   ]
  },
  {
   "cell_type": "markdown",
   "metadata": {},
   "source": [
    "## Converting Between Date, Timestamp, and String"
   ]
  },
  {
   "cell_type": "code",
   "execution_count": 26,
   "metadata": {},
   "outputs": [
    {
     "name": "stdout",
     "output_type": "stream",
     "text": [
      "+-------------------+----------+-------------------+\n",
      "|string_timestamp   |as_date   |as_timestamp       |\n",
      "+-------------------+----------+-------------------+\n",
      "|2025-03-15 14:30:45|2025-03-15|2025-03-15 14:30:45|\n",
      "+-------------------+----------+-------------------+\n",
      "\n"
     ]
    }
   ],
   "source": [
    "df = spark.createDataFrame([(\"2025-03-15 14:30:45\",)], [\"string_timestamp\"])\n",
    "\n",
    "df.select(\n",
    "    F.col(\"string_timestamp\"),\n",
    "    F.to_date(F.col(\"string_timestamp\")).alias(\"as_date\"),\n",
    "    F.to_timestamp(F.col(\"string_timestamp\")).alias(\"as_timestamp\")\n",
    ").show(truncate=False)"
   ]
  },
  {
   "cell_type": "markdown",
   "metadata": {},
   "source": [
    "## Extracting Weekday & Quarter"
   ]
  },
  {
   "cell_type": "code",
   "execution_count": 27,
   "metadata": {},
   "outputs": [
    {
     "name": "stdout",
     "output_type": "stream",
     "text": [
      "+----------+-----------+---------------+\n",
      "|      date|day_of_week|quarter_of_year|\n",
      "+----------+-----------+---------------+\n",
      "|2025-03-15|          7|              1|\n",
      "+----------+-----------+---------------+\n",
      "\n"
     ]
    }
   ],
   "source": [
    "df.select(\n",
    "    F.current_date().alias(\"date\"),\n",
    "    F.dayofweek(F.current_date()).alias(\"day_of_week\"),  # Sunday=1, Monday=2, etc.\n",
    "    F.quarter(F.current_date()).alias(\"quarter_of_year\")\n",
    ").show()"
   ]
  },
  {
   "cell_type": "markdown",
   "metadata": {},
   "source": [
    "## Handling Null Dates"
   ]
  },
  {
   "cell_type": "code",
   "execution_count": 28,
   "metadata": {},
   "outputs": [
    {
     "name": "stdout",
     "output_type": "stream",
     "text": [
      "+----------+-----------+\n",
      "|  date_col|filled_date|\n",
      "+----------+-----------+\n",
      "|      NULL| 1900-01-01|\n",
      "|2025-03-15| 2025-03-15|\n",
      "+----------+-----------+\n",
      "\n"
     ]
    }
   ],
   "source": [
    "df = spark.createDataFrame([(None,), (\"2025-03-15\",)], [\"date_col\"])\n",
    "df = df.withColumn(\"date_col\", F.col(\"date_col\").cast(\"date\"))\n",
    "\n",
    "df.select(\n",
    "    F.col(\"date_col\"),\n",
    "    F.coalesce(F.col(\"date_col\"), F.lit(\"1900-01-01\")).alias(\"filled_date\")\n",
    ").show()"
   ]
  }
 ],
 "metadata": {
  "kernelspec": {
   "display_name": ".venv",
   "language": "python",
   "name": "python3"
  },
  "language_info": {
   "codemirror_mode": {
    "name": "ipython",
    "version": 3
   },
   "file_extension": ".py",
   "mimetype": "text/x-python",
   "name": "python",
   "nbconvert_exporter": "python",
   "pygments_lexer": "ipython3",
   "version": "3.11.11"
  }
 },
 "nbformat": 4,
 "nbformat_minor": 2
}
