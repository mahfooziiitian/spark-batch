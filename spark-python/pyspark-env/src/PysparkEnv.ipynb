{
 "cells": [
  {
   "attachments": {},
   "cell_type": "markdown",
   "metadata": {},
   "source": [
    "# Mac/Linux\n",
    "\n",
    "1. export SPARK_HOME=\"\"\n",
    "2. export PATH=$PATH:$SPARK_HOME\\bin\n",
    "3. export PYSPARK_DRIVER_PYTHON=\"jupyter\"\n",
    "4. export PYSPARK_DRIVER_PYTHON_OPTS=\"notebook\"\n",
    "\n",
    "# Windows\n",
    "\n"
   ]
  },
  {
   "cell_type": "code",
   "execution_count": null,
   "metadata": {},
   "outputs": [],
   "source": []
  }
 ],
 "metadata": {
  "kernelspec": {
   "display_name": "spark",
   "language": "python",
   "name": "python3"
  },
  "language_info": {
   "name": "python",
   "version": "3.9.16"
  },
  "orig_nbformat": 4,
  "vscode": {
   "interpreter": {
    "hash": "7457cc6a39d34bbaba9cfb35b8c33acdf29237709917fcfa02a4735835f96a5d"
   }
  }
 },
 "nbformat": 4,
 "nbformat_minor": 2
}
